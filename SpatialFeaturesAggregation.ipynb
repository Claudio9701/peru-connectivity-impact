{
 "cells": [
  {
   "cell_type": "markdown",
   "id": "c4dd8b0a-6456-46a1-889d-a705a00ed1c2",
   "metadata": {},
   "source": [
    "> Pasar el mismo dataset de firmas con Nombre o Razon Social\n",
    "\n",
    "Buscar un dataset geografico del Censo a nivel nacional \n",
    "\n",
    "Calcular distancias (euclidiana/tiempo de viaje) a:\n",
    "- Aeropuertos\n",
    "- Puertos\n",
    "- Lima\n",
    "- Capital (distrito)\n",
    "- Base de datos que me pasara Antonio"
   ]
  },
  {
   "cell_type": "code",
   "execution_count": null,
   "id": "6e3c9a8e-1aff-46ed-b654-e19a073add40",
   "metadata": {},
   "outputs": [],
   "source": []
  }
 ],
 "metadata": {
  "kernelspec": {
   "display_name": "Python 3 (ipykernel)",
   "language": "python",
   "name": "python3"
  },
  "language_info": {
   "codemirror_mode": {
    "name": "ipython",
    "version": 3
   },
   "file_extension": ".py",
   "mimetype": "text/x-python",
   "name": "python",
   "nbconvert_exporter": "python",
   "pygments_lexer": "ipython3",
   "version": "3.9.9"
  }
 },
 "nbformat": 4,
 "nbformat_minor": 5
}
