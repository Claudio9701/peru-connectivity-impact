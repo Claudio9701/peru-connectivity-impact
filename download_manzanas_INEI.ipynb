{
 "cells": [
  {
   "cell_type": "code",
   "execution_count": 57,
   "id": "14e66323-c206-429b-9413-2bcab062abf5",
   "metadata": {},
   "outputs": [],
   "source": [
    "import geopandas as gpd\n",
    "import requests\n",
    "import pandas as pd"
   ]
  },
  {
   "cell_type": "code",
   "execution_count": 3,
   "id": "88980a9d-a36b-45d3-8c38-9a2bbe26f1f7",
   "metadata": {},
   "outputs": [],
   "source": [
    "depts_mzns = gpd.read_file(\"inputs/departamentos_manzanas.geojson\")"
   ]
  },
  {
   "cell_type": "code",
   "execution_count": 4,
   "id": "b6e05bc7-6c25-4e4c-b7ab-4f6ae0f8e9ed",
   "metadata": {},
   "outputs": [],
   "source": [
    "depts_mzns['DRIVE_ID'] = depts_mzns['LINK'].str.split('/', expand=True).iloc[:, 5]"
   ]
  },
  {
   "cell_type": "code",
   "execution_count": 5,
   "id": "7e1a145f-937a-4745-a577-0b2c67c06550",
   "metadata": {},
   "outputs": [
    {
     "data": {
      "text/plain": [
       "0      1xxixR0Bh8Oshq7uMCmVroOd4ZouL09-Q\n",
       "1      1lnwxbXljpFvTZpMSPr8Vakx3BRNxBUms\n",
       "2      1IZV20siTem9VlaAptAfoPLRWqV1XgLYV\n",
       "3      1YA8djjIBKbnOi-YjBek5wBK7wdIF6ujT\n",
       "4      1Dv-ZX-iaW0FNIAO5JIfM0fGgCWm0ymeQ\n",
       "                     ...                \n",
       "233    1BN-IktRh9pXw0G6E3iO4-GQ3VFiQ0uiK\n",
       "234    1q4IDmZxKwaTvBwdtsRQZFbVtvdOG9jHp\n",
       "235    1vXSUBqdi9UFdbsEJN89kEHDELaIO7VLy\n",
       "236    1C0Z1Je1mvbqR77UEfhi_0eNh8VjQAf3G\n",
       "237    101QW082rWQRg6X-k-4LedJpgNZK4bO6T\n",
       "Name: DRIVE_ID, Length: 238, dtype: object"
      ]
     },
     "execution_count": 5,
     "metadata": {},
     "output_type": "execute_result"
    }
   ],
   "source": [
    "depts_mzns['DRIVE_ID']"
   ]
  },
  {
   "cell_type": "code",
   "execution_count": 35,
   "id": "b82dfb46-4646-4902-b790-21504e71f378",
   "metadata": {},
   "outputs": [],
   "source": [
    "def download(file_id):\n",
    "    URL = \"https://drive.google.com/uc?iexport=download\"\n",
    "\n",
    "    session = requests.Session()\n",
    "\n",
    "    response = session.get(URL, params = { 'id' : file_id }, stream = True)\n",
    "\n",
    "    token = get_confirm_token(response)\n",
    "\n",
    "    if token:\n",
    "        params = { 'id' : file_id, 'confirm' : token }\n",
    "        response = session.get(URL, params = params, stream = True)\n",
    "\n",
    "    gdf = gpd.read_file(response.raw)\n",
    "\n",
    "    return gdf\n",
    "\n",
    "def get_confirm_token(response):\n",
    "    for key, value in response.cookies.items():\n",
    "        if key.startswith('download_warning'):\n",
    "            return value\n",
    "\n",
    "    return None"
   ]
  },
  {
   "cell_type": "code",
   "execution_count": 33,
   "id": "085b6d47-8a2c-4432-b8f0-a8b51535bc65",
   "metadata": {},
   "outputs": [],
   "source": [
    "resp = download('1xxixR0Bh8Oshq7uMCmVroOd4ZouL09-Q')"
   ]
  },
  {
   "cell_type": "code",
   "execution_count": 36,
   "id": "a3a5e7fd-0df4-4fd0-8e49-f191537fd8c9",
   "metadata": {
    "tags": []
   },
   "outputs": [
    {
     "name": "stdout",
     "output_type": "stream",
     "text": [
      "229 Descargados / 9 Error\r"
     ]
    }
   ],
   "source": [
    "mzn_gdfs = []\n",
    "descargados = 0\n",
    "error = 0\n",
    "for file_id in depts_mzns['DRIVE_ID']:\n",
    "    try:\n",
    "        gdf = download(file_id)\n",
    "        mzn_gdfs.append(gdf)\n",
    "        descargados += 1\n",
    "    except:\n",
    "        error += 1\n",
    "        \n",
    "    print(f'{descargados} Descargados / {error} Error', end='\\r')"
   ]
  },
  {
   "cell_type": "code",
   "execution_count": 58,
   "id": "8e65f47d-0f17-4d7d-955e-58458253b018",
   "metadata": {},
   "outputs": [],
   "source": [
    "total_gdf = pd.concat(mzn_gdfs, ignore_index=True)"
   ]
  },
  {
   "cell_type": "code",
   "execution_count": 49,
   "id": "ad248aa7-d4bd-487d-a0be-a30909c60fc2",
   "metadata": {},
   "outputs": [],
   "source": [
    "nombres = [gdf.iloc[0]['NOMBPROV'] for gdf in mzn_gdfs]"
   ]
  },
  {
   "cell_type": "code",
   "execution_count": 59,
   "id": "b92eaf4c-85f4-425a-bee4-d12464bf3148",
   "metadata": {},
   "outputs": [
    {
     "name": "stdout",
     "output_type": "stream",
     "text": [
      "9 Descargados / 0 Error\r"
     ]
    }
   ],
   "source": [
    "mzn_gdfs_error = []\n",
    "descargados = 0\n",
    "error = 0\n",
    "for file_id in depts_mzns[~depts_mzns['NOMBPROV'].isin(nombres)]['DRIVE_ID']:\n",
    "    try:\n",
    "        gdf = download(file_id)\n",
    "        mzn_gdfs_error.append(gdf)\n",
    "        descargados += 1\n",
    "    except:\n",
    "        print(file_id)\n",
    "        error += 1\n",
    "        \n",
    "    print(f'{descargados} Descargados / {error} Error', end='\\r')"
   ]
  },
  {
   "cell_type": "code",
   "execution_count": 60,
   "id": "b15519b4-4459-4f7e-ac23-301b51d51dd6",
   "metadata": {},
   "outputs": [],
   "source": [
    "total_gdf_error = pd.concat(mzn_gdfs_error, ignore_index=True)"
   ]
  },
  {
   "cell_type": "code",
   "execution_count": 65,
   "id": "e1e058b7-9782-4dc9-98d6-2070da84afb1",
   "metadata": {},
   "outputs": [
    {
     "data": {
      "text/plain": [
       "False"
      ]
     },
     "execution_count": 65,
     "metadata": {},
     "output_type": "execute_result"
    }
   ],
   "source": [
    "total_gdf_error['Mz'].isin(total_gdf['Mz']).any()"
   ]
  },
  {
   "cell_type": "code",
   "execution_count": 66,
   "id": "eef60bec-e1be-42a4-b011-1644682487ff",
   "metadata": {},
   "outputs": [],
   "source": [
    "tota_gdf_final = pd.concat([total_gdf, total_gdf_error], ignore_index=True)"
   ]
  },
  {
   "cell_type": "code",
   "execution_count": 67,
   "id": "8ec43e59-7d82-4fab-95e3-e7b1062ab29d",
   "metadata": {},
   "outputs": [
    {
     "name": "stderr",
     "output_type": "stream",
     "text": [
      "/Users/claudio/.pyenv/versions/peru-connect-env/lib/python3.9/site-packages/geopandas/io/file.py:362: FutureWarning: pandas.Int64Index is deprecated and will be removed from pandas in a future version. Use pandas.Index with the appropriate dtype instead.\n",
      "  pd.Int64Index,\n"
     ]
    }
   ],
   "source": [
    "tota_gdf_final.to_file('outputs/manzanas_censales_peru.geojson', driver='GeoJSON')"
   ]
  },
  {
   "cell_type": "code",
   "execution_count": null,
   "id": "ca11f791-a81c-4942-aee5-b47688ce94d4",
   "metadata": {},
   "outputs": [],
   "source": []
  }
 ],
 "metadata": {
  "kernelspec": {
   "display_name": "Python 3 (ipykernel)",
   "language": "python",
   "name": "python3"
  },
  "language_info": {
   "codemirror_mode": {
    "name": "ipython",
    "version": 3
   },
   "file_extension": ".py",
   "mimetype": "text/x-python",
   "name": "python",
   "nbconvert_exporter": "python",
   "pygments_lexer": "ipython3",
   "version": "3.9.12"
  }
 },
 "nbformat": 4,
 "nbformat_minor": 5
}
